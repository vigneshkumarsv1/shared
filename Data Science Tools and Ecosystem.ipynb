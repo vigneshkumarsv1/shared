{
 "cells": [
  {
   "cell_type": "markdown",
   "id": "15747a81-55a9-4f9c-964d-7b88e2f024c3",
   "metadata": {},
   "source": [
    "Exercise 2: \n",
    "# Data Science Tools and Ecosystem"
   ]
  },
  {
   "cell_type": "markdown",
   "id": "d0b1b24f-bb3b-42e9-8a37-2f10c3683e2a",
   "metadata": {},
   "source": [
    "Exercise 3:\n",
    "In this notebook, Data Science Tools and Ecosystem are summarized.\n",
    "\n"
   ]
  },
  {
   "cell_type": "markdown",
   "id": "004f7a0d-b821-4587-ae5d-cc4b5d39a417",
   "metadata": {},
   "source": [
    "Exercise 4:\n",
    "Popular Data scientists Languages\n",
    "1. Python\n",
    "2. SQL\n",
    "3. R"
   ]
  },
  {
   "cell_type": "markdown",
   "id": "3b19b079-1c6c-49bb-80c0-370a16fb1da1",
   "metadata": {},
   "source": [
    "Exercise 5:\n",
    "Some of the commonly used libraries used by Data Scientists include:\n",
    "1. Numpy\n",
    "2. Pandas\n",
    "3. Tenserflow\n",
    "4. Pytorch"
   ]
  },
  {
   "cell_type": "markdown",
   "id": "75011afe-9ab5-42df-b8bb-8d1950d4ebc3",
   "metadata": {},
   "source": [
    "Exercise 6 : Create a markdown cell with a table of Data Science tools\n",
    "|Data Science Tools|\n",
    "|-----|\n",
    "|Python|\n",
    "|R|\n",
    "|SQL|\n"
   ]
  },
  {
   "cell_type": "markdown",
   "id": "8567e251-742b-4a73-8424-43f42818085c",
   "metadata": {},
   "source": [
    "Exercise 7 - Create a markdown cell introducing arithmetic expression examples\n",
    "### Below are a few examples of evaluating arithmetic expressions in Python\n"
   ]
  },
  {
   "cell_type": "markdown",
   "id": "8bdb36e5-8581-4151-9c94-e92cba4c9e95",
   "metadata": {},
   "source": [
    "Exercise 8 - Create a code cell to multiply and add numbers"
   ]
  },
  {
   "cell_type": "code",
   "execution_count": 6,
   "id": "3176015a-d4b5-4485-9a8b-3ebf3af3c0b6",
   "metadata": {},
   "outputs": [
    {
     "name": "stdout",
     "output_type": "stream",
     "text": [
      "17\n"
     ]
    }
   ],
   "source": [
    "\n",
    "\n",
    "x = 3\n",
    "y = 4\n",
    "z = 5\n",
    "result = (x*y)+z\n",
    "print(result)"
   ]
  },
  {
   "cell_type": "markdown",
   "id": "daad4001-b6d8-4fea-a6e4-eaaf84121e0e",
   "metadata": {},
   "source": [
    "Exercise 9 - Create a code cell to convert minutes to hours"
   ]
  },
  {
   "cell_type": "code",
   "execution_count": 7,
   "id": "e4457f96-7a5d-442a-b1d0-9cc8427296dc",
   "metadata": {},
   "outputs": [
    {
     "name": "stdout",
     "output_type": "stream",
     "text": [
      "3.3333333333333335\n"
     ]
    }
   ],
   "source": [
    "input = 200\n",
    "result = input / 60\n",
    "print(result)"
   ]
  },
  {
   "cell_type": "code",
   "execution_count": null,
   "id": "1be94d58-0040-486c-a468-53ed462e57ae",
   "metadata": {},
   "outputs": [],
   "source": [
    "Exercise 10 - Insert a markdown cell to list Objectives"
   ]
  },
  {
   "cell_type": "markdown",
   "id": "0d200db6-6c23-4061-bf66-fb024bdef030",
   "metadata": {},
   "source": [
    "__Objectvies:__\n",
    "- Popular Data scientists Languages\n",
    "- Some of the commonly used libraries used by Data Scientists\n",
    "- List popular languages for data science\n",
    "- Data Science tools\n"
   ]
  },
  {
   "cell_type": "markdown",
   "id": "cb0d29fc-c31b-4260-98bd-505da789b28a",
   "metadata": {},
   "source": [
    "Exercise 11 - Create a markdown cell to indicate the Author's name"
   ]
  },
  {
   "cell_type": "markdown",
   "id": "58894af1-3775-4340-b478-eadcea87f5db",
   "metadata": {},
   "source": [
    "## Author\n",
    "Vignesh Kumar S V"
   ]
  },
  {
   "cell_type": "code",
   "execution_count": null,
   "id": "1274a4df-68b0-4b5c-991c-536073614069",
   "metadata": {},
   "outputs": [],
   "source": []
  }
 ],
 "metadata": {
  "kernelspec": {
   "display_name": "Python 3 (ipykernel)",
   "language": "python",
   "name": "python3"
  },
  "language_info": {
   "codemirror_mode": {
    "name": "ipython",
    "version": 3
   },
   "file_extension": ".py",
   "mimetype": "text/x-python",
   "name": "python",
   "nbconvert_exporter": "python",
   "pygments_lexer": "ipython3",
   "version": "3.11.7"
  }
 },
 "nbformat": 4,
 "nbformat_minor": 5
}
